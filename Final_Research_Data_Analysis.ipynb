{
  "nbformat": 4,
  "nbformat_minor": 0,
  "metadata": {
    "colab": {
      "name": "Final Research Data Analysis",
      "provenance": [],
      "collapsed_sections": []
    },
    "kernelspec": {
      "name": "python3",
      "display_name": "Python 3"
    }
  },
  "cells": [
    {
      "cell_type": "markdown",
      "metadata": {
        "id": "fwLDEtnYYW69"
      },
      "source": [
        "##Final Data Analysis##\n",
        "\n",
        "Below is the final data analysis to show how the FEA and Testing results aligned, differed, and handled variable sensitivity."
      ]
    },
    {
      "cell_type": "markdown",
      "metadata": {
        "id": "NWbrVVs3YWq4"
      },
      "source": [
        "###Setup###\n",
        "\n",
        "Setup code to import modules and csv data."
      ]
    },
    {
      "cell_type": "code",
      "metadata": {
        "id": "PbiRjyVZSbL9"
      },
      "source": [
        "import pandas as pd\n",
        "import numpy as np\n",
        "import matplotlib.pyplot as plt\n",
        "import requests\n",
        "from google.colab import files\n",
        "import io"
      ],
      "execution_count": 12,
      "outputs": []
    },
    {
      "cell_type": "code",
      "metadata": {
        "id": "ckOq-w4BQsHR"
      },
      "source": [
        "B_MASS = 0.0577 # kg\n",
        "\n",
        "def kinetic_e(velo, mass):\n",
        "  \"\"\"\n",
        "  Takes an object's instantaneous velocity and mass and returns a kinetic energy\n",
        "\n",
        "  :param velo: Velocity of the object (m/s)\n",
        "  :param mass: Mass of the object (kg)\n",
        "  :return: Kinetic energy in joules\n",
        "  \"\"\"\n",
        "  return (0.5)*mass*(velo**2)\n",
        "\n",
        "def potential_e(height, mass):\n",
        "  \"\"\"\n",
        "  Takes an object's height and mass and returns a potential energy\n",
        "\n",
        "  :param height: Height of the object (m)\n",
        "  :param mass: Mass of the object (kg)\n",
        "  :return: Potential energy in joules\n",
        "  \"\"\"\n",
        "  return mass * 9.81 * height\n",
        "\n",
        "def final_height(drop, diff):\n",
        "  \"\"\"\n",
        "  Takes the height difference and the original height and returns the final\n",
        "  height of the object.\n",
        "\n",
        "  :param drop: drop height (m)\n",
        "  :param diff: height difference (m)\n",
        "  :return: final height of the object (m)\n",
        "  \"\"\"\n",
        "  return drop - diff\n",
        "\n",
        "plt.rcParams['figure.figsize'] = (15, 10) \n",
        "plt.style.use('ggplot')\n",
        "font = {'family' : 'normal',\n",
        "        'weight' : 'normal',\n",
        "        'size'   : 16}\n",
        "\n",
        "plt.rc('font', **font)"
      ],
      "execution_count": 13,
      "outputs": []
    },
    {
      "cell_type": "code",
      "metadata": {
        "id": "9loC8Mu6SsP2",
        "colab": {
          "base_uri": "https://localhost:8080/",
          "height": 890
        },
        "outputId": "3f68bc16-46c4-4155-f2b0-d727c9594688"
      },
      "source": [
        "ABAQUS = pd.read_csv('https://raw.githubusercontent.com/dtb00789/csv_data/main/ABAQUS.csv')\n",
        "ABAQUS = ABAQUS.set_index('Simulation')\n",
        "\n",
        "ABAQUS\n"
      ],
      "execution_count": 14,
      "outputs": [
        {
          "output_type": "execute_result",
          "data": {
            "text/html": [
              "<div>\n",
              "<style scoped>\n",
              "    .dataframe tbody tr th:only-of-type {\n",
              "        vertical-align: middle;\n",
              "    }\n",
              "\n",
              "    .dataframe tbody tr th {\n",
              "        vertical-align: top;\n",
              "    }\n",
              "\n",
              "    .dataframe thead th {\n",
              "        text-align: right;\n",
              "    }\n",
              "</style>\n",
              "<table border=\"1\" class=\"dataframe\">\n",
              "  <thead>\n",
              "    <tr style=\"text-align: right;\">\n",
              "      <th></th>\n",
              "      <th>Percent KE Loss</th>\n",
              "    </tr>\n",
              "    <tr>\n",
              "      <th>Simulation</th>\n",
              "      <th></th>\n",
              "    </tr>\n",
              "  </thead>\n",
              "  <tbody>\n",
              "    <tr>\n",
              "      <th>syn_40_50</th>\n",
              "      <td>4.271001</td>\n",
              "    </tr>\n",
              "    <tr>\n",
              "      <th>syn_40_100</th>\n",
              "      <td>7.663183</td>\n",
              "    </tr>\n",
              "    <tr>\n",
              "      <th>syn_40_150</th>\n",
              "      <td>7.981145</td>\n",
              "    </tr>\n",
              "    <tr>\n",
              "      <th>syn_50_50</th>\n",
              "      <td>4.194459</td>\n",
              "    </tr>\n",
              "    <tr>\n",
              "      <th>syn_50_100</th>\n",
              "      <td>7.655835</td>\n",
              "    </tr>\n",
              "    <tr>\n",
              "      <th>syn_50_150</th>\n",
              "      <td>7.927741</td>\n",
              "    </tr>\n",
              "    <tr>\n",
              "      <th>syn_60_50</th>\n",
              "      <td>4.214920</td>\n",
              "    </tr>\n",
              "    <tr>\n",
              "      <th>syn_60_100</th>\n",
              "      <td>7.647752</td>\n",
              "    </tr>\n",
              "    <tr>\n",
              "      <th>syn_60_150</th>\n",
              "      <td>7.871824</td>\n",
              "    </tr>\n",
              "    <tr>\n",
              "      <th>poly_40_50</th>\n",
              "      <td>4.606083</td>\n",
              "    </tr>\n",
              "    <tr>\n",
              "      <th>poly_40_100</th>\n",
              "      <td>6.331780</td>\n",
              "    </tr>\n",
              "    <tr>\n",
              "      <th>poly_40_150</th>\n",
              "      <td>6.509745</td>\n",
              "    </tr>\n",
              "    <tr>\n",
              "      <th>poly_50_50</th>\n",
              "      <td>4.559080</td>\n",
              "    </tr>\n",
              "    <tr>\n",
              "      <th>poly_50_100</th>\n",
              "      <td>6.288235</td>\n",
              "    </tr>\n",
              "    <tr>\n",
              "      <th>poly_50_150</th>\n",
              "      <td>6.457022</td>\n",
              "    </tr>\n",
              "    <tr>\n",
              "      <th>poly_60_50</th>\n",
              "      <td>4.531965</td>\n",
              "    </tr>\n",
              "    <tr>\n",
              "      <th>poly_60_100</th>\n",
              "      <td>6.251343</td>\n",
              "    </tr>\n",
              "    <tr>\n",
              "      <th>poly_60_150</th>\n",
              "      <td>6.410525</td>\n",
              "    </tr>\n",
              "    <tr>\n",
              "      <th>multi_40_50</th>\n",
              "      <td>2.477530</td>\n",
              "    </tr>\n",
              "    <tr>\n",
              "      <th>multi_40_100</th>\n",
              "      <td>6.435729</td>\n",
              "    </tr>\n",
              "    <tr>\n",
              "      <th>multi_40_150</th>\n",
              "      <td>8.151437</td>\n",
              "    </tr>\n",
              "    <tr>\n",
              "      <th>multi_50_50</th>\n",
              "      <td>2.527178</td>\n",
              "    </tr>\n",
              "    <tr>\n",
              "      <th>multi_50_100</th>\n",
              "      <td>6.435605</td>\n",
              "    </tr>\n",
              "    <tr>\n",
              "      <th>multi_50_150</th>\n",
              "      <td>8.130296</td>\n",
              "    </tr>\n",
              "    <tr>\n",
              "      <th>multi_60_50</th>\n",
              "      <td>2.591399</td>\n",
              "    </tr>\n",
              "    <tr>\n",
              "      <th>multi_60_100</th>\n",
              "      <td>6.430921</td>\n",
              "    </tr>\n",
              "    <tr>\n",
              "      <th>multi_60_150</th>\n",
              "      <td>8.104565</td>\n",
              "    </tr>\n",
              "  </tbody>\n",
              "</table>\n",
              "</div>"
            ],
            "text/plain": [
              "              Percent KE Loss\n",
              "Simulation                   \n",
              "syn_40_50            4.271001\n",
              "syn_40_100           7.663183\n",
              "syn_40_150           7.981145\n",
              "syn_50_50            4.194459\n",
              "syn_50_100           7.655835\n",
              "syn_50_150           7.927741\n",
              "syn_60_50            4.214920\n",
              "syn_60_100           7.647752\n",
              "syn_60_150           7.871824\n",
              "poly_40_50           4.606083\n",
              "poly_40_100          6.331780\n",
              "poly_40_150          6.509745\n",
              "poly_50_50           4.559080\n",
              "poly_50_100          6.288235\n",
              "poly_50_150          6.457022\n",
              "poly_60_50           4.531965\n",
              "poly_60_100          6.251343\n",
              "poly_60_150          6.410525\n",
              "multi_40_50          2.477530\n",
              "multi_40_100         6.435729\n",
              "multi_40_150         8.151437\n",
              "multi_50_50          2.527178\n",
              "multi_50_100         6.435605\n",
              "multi_50_150         8.130296\n",
              "multi_60_50          2.591399\n",
              "multi_60_100         6.430921\n",
              "multi_60_150         8.104565"
            ]
          },
          "metadata": {
            "tags": []
          },
          "execution_count": 14
        }
      ]
    },
    {
      "cell_type": "code",
      "metadata": {
        "id": "JiUlp_kgS5I6",
        "colab": {
          "base_uri": "https://localhost:8080/",
          "height": 710
        },
        "outputId": "8af1773e-410c-438e-c13b-51e848306a64"
      },
      "source": [
        "old_testing = pd.read_csv('https://raw.githubusercontent.com/dtb00789/csv_data/main/Testing_perc.csv')\n",
        "old_testing = old_testing.set_index('Test')\n",
        "old_testing"
      ],
      "execution_count": 15,
      "outputs": [
        {
          "output_type": "execute_result",
          "data": {
            "text/html": [
              "<div>\n",
              "<style scoped>\n",
              "    .dataframe tbody tr th:only-of-type {\n",
              "        vertical-align: middle;\n",
              "    }\n",
              "\n",
              "    .dataframe tbody tr th {\n",
              "        vertical-align: top;\n",
              "    }\n",
              "\n",
              "    .dataframe thead th {\n",
              "        text-align: right;\n",
              "    }\n",
              "</style>\n",
              "<table border=\"1\" class=\"dataframe\">\n",
              "  <thead>\n",
              "    <tr style=\"text-align: right;\">\n",
              "      <th></th>\n",
              "      <th>% PE Loss</th>\n",
              "    </tr>\n",
              "    <tr>\n",
              "      <th>Test</th>\n",
              "      <th></th>\n",
              "    </tr>\n",
              "  </thead>\n",
              "  <tbody>\n",
              "    <tr>\n",
              "      <th>syn_40_50</th>\n",
              "      <td>27.400000</td>\n",
              "    </tr>\n",
              "    <tr>\n",
              "      <th>syn_40_100</th>\n",
              "      <td>27.766667</td>\n",
              "    </tr>\n",
              "    <tr>\n",
              "      <th>syn_40_150</th>\n",
              "      <td>28.055556</td>\n",
              "    </tr>\n",
              "    <tr>\n",
              "      <th>syn_50_50</th>\n",
              "      <td>29.633333</td>\n",
              "    </tr>\n",
              "    <tr>\n",
              "      <th>syn_50_100</th>\n",
              "      <td>30.250000</td>\n",
              "    </tr>\n",
              "    <tr>\n",
              "      <th>syn_50_150</th>\n",
              "      <td>30.500000</td>\n",
              "    </tr>\n",
              "    <tr>\n",
              "      <th>syn_60_50</th>\n",
              "      <td>30.000000</td>\n",
              "    </tr>\n",
              "    <tr>\n",
              "      <th>syn_60_100</th>\n",
              "      <td>30.983333</td>\n",
              "    </tr>\n",
              "    <tr>\n",
              "      <th>syn_60_150</th>\n",
              "      <td>30.833333</td>\n",
              "    </tr>\n",
              "    <tr>\n",
              "      <th>poly_40_50</th>\n",
              "      <td>24.933333</td>\n",
              "    </tr>\n",
              "    <tr>\n",
              "      <th>poly_40_100</th>\n",
              "      <td>25.800000</td>\n",
              "    </tr>\n",
              "    <tr>\n",
              "      <th>poly_40_150</th>\n",
              "      <td>27.966667</td>\n",
              "    </tr>\n",
              "    <tr>\n",
              "      <th>poly_50_50</th>\n",
              "      <td>28.633333</td>\n",
              "    </tr>\n",
              "    <tr>\n",
              "      <th>poly_50_100</th>\n",
              "      <td>28.700000</td>\n",
              "    </tr>\n",
              "    <tr>\n",
              "      <th>poly_50_150</th>\n",
              "      <td>29.900000</td>\n",
              "    </tr>\n",
              "    <tr>\n",
              "      <th>poly_60_50</th>\n",
              "      <td>29.633333</td>\n",
              "    </tr>\n",
              "    <tr>\n",
              "      <th>poly_60_100</th>\n",
              "      <td>29.600000</td>\n",
              "    </tr>\n",
              "    <tr>\n",
              "      <th>poly_60_150</th>\n",
              "      <td>29.600000</td>\n",
              "    </tr>\n",
              "    <tr>\n",
              "      <th>fry_50</th>\n",
              "      <td>46.066667</td>\n",
              "    </tr>\n",
              "    <tr>\n",
              "      <th>fry_100</th>\n",
              "      <td>48.233333</td>\n",
              "    </tr>\n",
              "    <tr>\n",
              "      <th>fry_150</th>\n",
              "      <td>46.411111</td>\n",
              "    </tr>\n",
              "  </tbody>\n",
              "</table>\n",
              "</div>"
            ],
            "text/plain": [
              "             % PE Loss\n",
              "Test                  \n",
              "syn_40_50    27.400000\n",
              "syn_40_100   27.766667\n",
              "syn_40_150   28.055556\n",
              "syn_50_50    29.633333\n",
              "syn_50_100   30.250000\n",
              "syn_50_150   30.500000\n",
              "syn_60_50    30.000000\n",
              "syn_60_100   30.983333\n",
              "syn_60_150   30.833333\n",
              "poly_40_50   24.933333\n",
              "poly_40_100  25.800000\n",
              "poly_40_150  27.966667\n",
              "poly_50_50   28.633333\n",
              "poly_50_100  28.700000\n",
              "poly_50_150  29.900000\n",
              "poly_60_50   29.633333\n",
              "poly_60_100  29.600000\n",
              "poly_60_150  29.600000\n",
              "fry_50       46.066667\n",
              "fry_100      48.233333\n",
              "fry_150      46.411111"
            ]
          },
          "metadata": {
            "tags": []
          },
          "execution_count": 15
        }
      ]
    },
    {
      "cell_type": "code",
      "metadata": {
        "colab": {
          "base_uri": "https://localhost:8080/",
          "height": 680
        },
        "id": "taJ3IeuglIvT",
        "outputId": "fce4e9c8-6466-4cc4-e23c-512051a36c44"
      },
      "source": [
        "dat = []\n",
        "for some in old_testing:\n",
        "  for val in old_testing[some]:\n",
        "    new = pd.Series(val, index = [some])\n",
        "    dat.append(new)\n",
        "\n",
        "testing = pd.DataFrame(dat, index = ['Syn Gut 40 lb. 50 cm', 'Syn Gut 40 lb. 100 cm', 'Syn Gut 40 lb. 150 cm',\n",
        "     'Syn Gut 50 lb. 50 cm', 'Syn Gut 50 lb. 100 cm', 'Syn Gut 50 lb. 150 cm',\n",
        "     'Syn Gut 60 lb. 50 cm', 'Syn Gut 60 lb. 100 cm', 'Syn Gut 60 lb. 150 cm',\n",
        "     'Poly 40 lb. 50 cm', 'Poly 40 lb. 100 cm', 'Poly 40 lb. 150 cm',\n",
        "     'Poly 50 lb. 50 cm', 'Poly 50 lb. 100 cm', 'Poly 50 lb. 150 cm',\n",
        "     'Poly 60 lb. 50 cm', 'Poly 60 lb. 100 cm', 'Poly 60 lb. 150 cm',\n",
        "     'Frying Pan 50 cm', 'Frying Pan 100 cm', 'Frying Pan 150 cm'])\n",
        "testing"
      ],
      "execution_count": 16,
      "outputs": [
        {
          "output_type": "execute_result",
          "data": {
            "text/html": [
              "<div>\n",
              "<style scoped>\n",
              "    .dataframe tbody tr th:only-of-type {\n",
              "        vertical-align: middle;\n",
              "    }\n",
              "\n",
              "    .dataframe tbody tr th {\n",
              "        vertical-align: top;\n",
              "    }\n",
              "\n",
              "    .dataframe thead th {\n",
              "        text-align: right;\n",
              "    }\n",
              "</style>\n",
              "<table border=\"1\" class=\"dataframe\">\n",
              "  <thead>\n",
              "    <tr style=\"text-align: right;\">\n",
              "      <th></th>\n",
              "      <th>% PE Loss</th>\n",
              "    </tr>\n",
              "  </thead>\n",
              "  <tbody>\n",
              "    <tr>\n",
              "      <th>Syn Gut 40 lb. 50 cm</th>\n",
              "      <td>27.400000</td>\n",
              "    </tr>\n",
              "    <tr>\n",
              "      <th>Syn Gut 40 lb. 100 cm</th>\n",
              "      <td>27.766667</td>\n",
              "    </tr>\n",
              "    <tr>\n",
              "      <th>Syn Gut 40 lb. 150 cm</th>\n",
              "      <td>28.055556</td>\n",
              "    </tr>\n",
              "    <tr>\n",
              "      <th>Syn Gut 50 lb. 50 cm</th>\n",
              "      <td>29.633333</td>\n",
              "    </tr>\n",
              "    <tr>\n",
              "      <th>Syn Gut 50 lb. 100 cm</th>\n",
              "      <td>30.250000</td>\n",
              "    </tr>\n",
              "    <tr>\n",
              "      <th>Syn Gut 50 lb. 150 cm</th>\n",
              "      <td>30.500000</td>\n",
              "    </tr>\n",
              "    <tr>\n",
              "      <th>Syn Gut 60 lb. 50 cm</th>\n",
              "      <td>30.000000</td>\n",
              "    </tr>\n",
              "    <tr>\n",
              "      <th>Syn Gut 60 lb. 100 cm</th>\n",
              "      <td>30.983333</td>\n",
              "    </tr>\n",
              "    <tr>\n",
              "      <th>Syn Gut 60 lb. 150 cm</th>\n",
              "      <td>30.833333</td>\n",
              "    </tr>\n",
              "    <tr>\n",
              "      <th>Poly 40 lb. 50 cm</th>\n",
              "      <td>24.933333</td>\n",
              "    </tr>\n",
              "    <tr>\n",
              "      <th>Poly 40 lb. 100 cm</th>\n",
              "      <td>25.800000</td>\n",
              "    </tr>\n",
              "    <tr>\n",
              "      <th>Poly 40 lb. 150 cm</th>\n",
              "      <td>27.966667</td>\n",
              "    </tr>\n",
              "    <tr>\n",
              "      <th>Poly 50 lb. 50 cm</th>\n",
              "      <td>28.633333</td>\n",
              "    </tr>\n",
              "    <tr>\n",
              "      <th>Poly 50 lb. 100 cm</th>\n",
              "      <td>28.700000</td>\n",
              "    </tr>\n",
              "    <tr>\n",
              "      <th>Poly 50 lb. 150 cm</th>\n",
              "      <td>29.900000</td>\n",
              "    </tr>\n",
              "    <tr>\n",
              "      <th>Poly 60 lb. 50 cm</th>\n",
              "      <td>29.633333</td>\n",
              "    </tr>\n",
              "    <tr>\n",
              "      <th>Poly 60 lb. 100 cm</th>\n",
              "      <td>29.600000</td>\n",
              "    </tr>\n",
              "    <tr>\n",
              "      <th>Poly 60 lb. 150 cm</th>\n",
              "      <td>29.600000</td>\n",
              "    </tr>\n",
              "    <tr>\n",
              "      <th>Frying Pan 50 cm</th>\n",
              "      <td>46.066667</td>\n",
              "    </tr>\n",
              "    <tr>\n",
              "      <th>Frying Pan 100 cm</th>\n",
              "      <td>48.233333</td>\n",
              "    </tr>\n",
              "    <tr>\n",
              "      <th>Frying Pan 150 cm</th>\n",
              "      <td>46.411111</td>\n",
              "    </tr>\n",
              "  </tbody>\n",
              "</table>\n",
              "</div>"
            ],
            "text/plain": [
              "                       % PE Loss\n",
              "Syn Gut 40 lb. 50 cm   27.400000\n",
              "Syn Gut 40 lb. 100 cm  27.766667\n",
              "Syn Gut 40 lb. 150 cm  28.055556\n",
              "Syn Gut 50 lb. 50 cm   29.633333\n",
              "Syn Gut 50 lb. 100 cm  30.250000\n",
              "Syn Gut 50 lb. 150 cm  30.500000\n",
              "Syn Gut 60 lb. 50 cm   30.000000\n",
              "Syn Gut 60 lb. 100 cm  30.983333\n",
              "Syn Gut 60 lb. 150 cm  30.833333\n",
              "Poly 40 lb. 50 cm      24.933333\n",
              "Poly 40 lb. 100 cm     25.800000\n",
              "Poly 40 lb. 150 cm     27.966667\n",
              "Poly 50 lb. 50 cm      28.633333\n",
              "Poly 50 lb. 100 cm     28.700000\n",
              "Poly 50 lb. 150 cm     29.900000\n",
              "Poly 60 lb. 50 cm      29.633333\n",
              "Poly 60 lb. 100 cm     29.600000\n",
              "Poly 60 lb. 150 cm     29.600000\n",
              "Frying Pan 50 cm       46.066667\n",
              "Frying Pan 100 cm      48.233333\n",
              "Frying Pan 150 cm      46.411111"
            ]
          },
          "metadata": {
            "tags": []
          },
          "execution_count": 16
        }
      ]
    },
    {
      "cell_type": "code",
      "metadata": {
        "colab": {
          "base_uri": "https://localhost:8080/",
          "height": 710
        },
        "id": "E-WY2K6qZ4vi",
        "outputId": "432c890c-df4c-489e-9400-1de8afaac50e"
      },
      "source": [
        "stdev = pd.read_csv('https://raw.githubusercontent.com/dtb00789/csv_data/main/stdev.csv')\n",
        "stdev = stdev.set_index('list')\n",
        "\n",
        "stdev\n"
      ],
      "execution_count": 17,
      "outputs": [
        {
          "output_type": "execute_result",
          "data": {
            "text/html": [
              "<div>\n",
              "<style scoped>\n",
              "    .dataframe tbody tr th:only-of-type {\n",
              "        vertical-align: middle;\n",
              "    }\n",
              "\n",
              "    .dataframe tbody tr th {\n",
              "        vertical-align: top;\n",
              "    }\n",
              "\n",
              "    .dataframe thead th {\n",
              "        text-align: right;\n",
              "    }\n",
              "</style>\n",
              "<table border=\"1\" class=\"dataframe\">\n",
              "  <thead>\n",
              "    <tr style=\"text-align: right;\">\n",
              "      <th></th>\n",
              "      <th>stdev</th>\n",
              "    </tr>\n",
              "    <tr>\n",
              "      <th>list</th>\n",
              "      <th></th>\n",
              "    </tr>\n",
              "  </thead>\n",
              "  <tbody>\n",
              "    <tr>\n",
              "      <th>syn_40_50</th>\n",
              "      <td>0.715542</td>\n",
              "    </tr>\n",
              "    <tr>\n",
              "      <th>syn_40_100</th>\n",
              "      <td>0.427395</td>\n",
              "    </tr>\n",
              "    <tr>\n",
              "      <th>syn_40_150</th>\n",
              "      <td>0.624559</td>\n",
              "    </tr>\n",
              "    <tr>\n",
              "      <th>syn_50_50</th>\n",
              "      <td>0.983192</td>\n",
              "    </tr>\n",
              "    <tr>\n",
              "      <th>syn_50_100</th>\n",
              "      <td>0.779102</td>\n",
              "    </tr>\n",
              "    <tr>\n",
              "      <th>syn_50_150</th>\n",
              "      <td>0.721418</td>\n",
              "    </tr>\n",
              "    <tr>\n",
              "      <th>syn_60_50</th>\n",
              "      <td>0.619677</td>\n",
              "    </tr>\n",
              "    <tr>\n",
              "      <th>syn_60_100</th>\n",
              "      <td>1.090718</td>\n",
              "    </tr>\n",
              "    <tr>\n",
              "      <th>syn_60_150</th>\n",
              "      <td>1.194618</td>\n",
              "    </tr>\n",
              "    <tr>\n",
              "      <th>poly_40_50</th>\n",
              "      <td>0.722957</td>\n",
              "    </tr>\n",
              "    <tr>\n",
              "      <th>poly_40_100</th>\n",
              "      <td>0.672309</td>\n",
              "    </tr>\n",
              "    <tr>\n",
              "      <th>poly_40_150</th>\n",
              "      <td>0.619319</td>\n",
              "    </tr>\n",
              "    <tr>\n",
              "      <th>poly_50_50</th>\n",
              "      <td>1.091177</td>\n",
              "    </tr>\n",
              "    <tr>\n",
              "      <th>poly_50_100</th>\n",
              "      <td>0.513809</td>\n",
              "    </tr>\n",
              "    <tr>\n",
              "      <th>poly_50_150</th>\n",
              "      <td>0.794145</td>\n",
              "    </tr>\n",
              "    <tr>\n",
              "      <th>poly_60_50</th>\n",
              "      <td>0.794145</td>\n",
              "    </tr>\n",
              "    <tr>\n",
              "      <th>poly_60_100</th>\n",
              "      <td>0.918695</td>\n",
              "    </tr>\n",
              "    <tr>\n",
              "      <th>poly_60_150</th>\n",
              "      <td>0.683780</td>\n",
              "    </tr>\n",
              "    <tr>\n",
              "      <th>fry_50</th>\n",
              "      <td>1.184342</td>\n",
              "    </tr>\n",
              "    <tr>\n",
              "      <th>fry_100</th>\n",
              "      <td>1.978552</td>\n",
              "    </tr>\n",
              "    <tr>\n",
              "      <th>fry_150</th>\n",
              "      <td>4.205552</td>\n",
              "    </tr>\n",
              "  </tbody>\n",
              "</table>\n",
              "</div>"
            ],
            "text/plain": [
              "                stdev\n",
              "list                 \n",
              "syn_40_50    0.715542\n",
              "syn_40_100   0.427395\n",
              "syn_40_150   0.624559\n",
              "syn_50_50    0.983192\n",
              "syn_50_100   0.779102\n",
              "syn_50_150   0.721418\n",
              "syn_60_50    0.619677\n",
              "syn_60_100   1.090718\n",
              "syn_60_150   1.194618\n",
              "poly_40_50   0.722957\n",
              "poly_40_100  0.672309\n",
              "poly_40_150  0.619319\n",
              "poly_50_50   1.091177\n",
              "poly_50_100  0.513809\n",
              "poly_50_150  0.794145\n",
              "poly_60_50   0.794145\n",
              "poly_60_100  0.918695\n",
              "poly_60_150  0.683780\n",
              "fry_50       1.184342\n",
              "fry_100      1.978552\n",
              "fry_150      4.205552"
            ]
          },
          "metadata": {
            "tags": []
          },
          "execution_count": 17
        }
      ]
    },
    {
      "cell_type": "code",
      "metadata": {
        "colab": {
          "base_uri": "https://localhost:8080/",
          "height": 98
        },
        "id": "7dRFDfAjjvZ7",
        "outputId": "ebb37a0e-df9c-407e-dd7c-ad14c1ccc1bd"
      },
      "source": [
        "stdev1 = stdev.transpose()\n",
        "stdev1"
      ],
      "execution_count": 18,
      "outputs": [
        {
          "output_type": "execute_result",
          "data": {
            "text/html": [
              "<div>\n",
              "<style scoped>\n",
              "    .dataframe tbody tr th:only-of-type {\n",
              "        vertical-align: middle;\n",
              "    }\n",
              "\n",
              "    .dataframe tbody tr th {\n",
              "        vertical-align: top;\n",
              "    }\n",
              "\n",
              "    .dataframe thead th {\n",
              "        text-align: right;\n",
              "    }\n",
              "</style>\n",
              "<table border=\"1\" class=\"dataframe\">\n",
              "  <thead>\n",
              "    <tr style=\"text-align: right;\">\n",
              "      <th>list</th>\n",
              "      <th>syn_40_50</th>\n",
              "      <th>syn_40_100</th>\n",
              "      <th>syn_40_150</th>\n",
              "      <th>syn_50_50</th>\n",
              "      <th>syn_50_100</th>\n",
              "      <th>syn_50_150</th>\n",
              "      <th>syn_60_50</th>\n",
              "      <th>syn_60_100</th>\n",
              "      <th>syn_60_150</th>\n",
              "      <th>poly_40_50</th>\n",
              "      <th>poly_40_100</th>\n",
              "      <th>poly_40_150</th>\n",
              "      <th>poly_50_50</th>\n",
              "      <th>poly_50_100</th>\n",
              "      <th>poly_50_150</th>\n",
              "      <th>poly_60_50</th>\n",
              "      <th>poly_60_100</th>\n",
              "      <th>poly_60_150</th>\n",
              "      <th>fry_50</th>\n",
              "      <th>fry_100</th>\n",
              "      <th>fry_150</th>\n",
              "    </tr>\n",
              "  </thead>\n",
              "  <tbody>\n",
              "    <tr>\n",
              "      <th>stdev</th>\n",
              "      <td>0.715542</td>\n",
              "      <td>0.427395</td>\n",
              "      <td>0.624559</td>\n",
              "      <td>0.983192</td>\n",
              "      <td>0.779102</td>\n",
              "      <td>0.721418</td>\n",
              "      <td>0.619677</td>\n",
              "      <td>1.090718</td>\n",
              "      <td>1.194618</td>\n",
              "      <td>0.722957</td>\n",
              "      <td>0.672309</td>\n",
              "      <td>0.619319</td>\n",
              "      <td>1.091177</td>\n",
              "      <td>0.513809</td>\n",
              "      <td>0.794145</td>\n",
              "      <td>0.794145</td>\n",
              "      <td>0.918695</td>\n",
              "      <td>0.68378</td>\n",
              "      <td>1.184342</td>\n",
              "      <td>1.978552</td>\n",
              "      <td>4.205552</td>\n",
              "    </tr>\n",
              "  </tbody>\n",
              "</table>\n",
              "</div>"
            ],
            "text/plain": [
              "list   syn_40_50  syn_40_100  syn_40_150  ...    fry_50   fry_100   fry_150\n",
              "stdev   0.715542    0.427395    0.624559  ...  1.184342  1.978552  4.205552\n",
              "\n",
              "[1 rows x 21 columns]"
            ]
          },
          "metadata": {
            "tags": []
          },
          "execution_count": 18
        }
      ]
    },
    {
      "cell_type": "markdown",
      "metadata": {
        "id": "TZBOrkQrYVm3"
      },
      "source": [
        "###Initial Figures###"
      ]
    },
    {
      "cell_type": "code",
      "metadata": {
        "id": "QcAvcq0fedRH",
        "colab": {
          "base_uri": "https://localhost:8080/",
          "height": 258
        },
        "outputId": "de068884-10a9-4456-e03c-7477e8da0645"
      },
      "source": [
        "index_1 = ['Syn Gut 40 lb.', 'Syn Gut 50 lb.', 'Syn Gut 60 lb.', 'Poly 40 lb.',\n",
        "          'Poly 50 lb.', 'Poly 60 lb.', 'Frying Pan']\n",
        "pot_e_loss = []\n",
        "stdev_l = []\n",
        "dat_l = []\n",
        "dat_std = []\n",
        "for i in range(len(old_testing)):\n",
        "  dat = old_testing['% PE Loss'][i]\n",
        "  dat2 = stdev['stdev'][i]\n",
        "  dat_l.append(dat)\n",
        "  dat_std.append(dat2)\n",
        "  if len(dat_l) == 3:\n",
        "    pot_e_loss.append(pd.Series(dat_l, index = ['50 cm', '100 cm', '150 cm']))\n",
        "    stdev_l.append(pd.Series(dat_std, index = ['50 cm', '100 cm', '150 cm']))\n",
        "    dat_l = []\n",
        "    dat_std = []\n",
        "\n",
        "prim_fig = pd.DataFrame(pot_e_loss, index = index_1)\n",
        "prim_fig\n",
        "\n"
      ],
      "execution_count": 19,
      "outputs": [
        {
          "output_type": "execute_result",
          "data": {
            "text/html": [
              "<div>\n",
              "<style scoped>\n",
              "    .dataframe tbody tr th:only-of-type {\n",
              "        vertical-align: middle;\n",
              "    }\n",
              "\n",
              "    .dataframe tbody tr th {\n",
              "        vertical-align: top;\n",
              "    }\n",
              "\n",
              "    .dataframe thead th {\n",
              "        text-align: right;\n",
              "    }\n",
              "</style>\n",
              "<table border=\"1\" class=\"dataframe\">\n",
              "  <thead>\n",
              "    <tr style=\"text-align: right;\">\n",
              "      <th></th>\n",
              "      <th>50 cm</th>\n",
              "      <th>100 cm</th>\n",
              "      <th>150 cm</th>\n",
              "    </tr>\n",
              "  </thead>\n",
              "  <tbody>\n",
              "    <tr>\n",
              "      <th>Syn Gut 40 lb.</th>\n",
              "      <td>27.400000</td>\n",
              "      <td>27.766667</td>\n",
              "      <td>28.055556</td>\n",
              "    </tr>\n",
              "    <tr>\n",
              "      <th>Syn Gut 50 lb.</th>\n",
              "      <td>29.633333</td>\n",
              "      <td>30.250000</td>\n",
              "      <td>30.500000</td>\n",
              "    </tr>\n",
              "    <tr>\n",
              "      <th>Syn Gut 60 lb.</th>\n",
              "      <td>30.000000</td>\n",
              "      <td>30.983333</td>\n",
              "      <td>30.833333</td>\n",
              "    </tr>\n",
              "    <tr>\n",
              "      <th>Poly 40 lb.</th>\n",
              "      <td>24.933333</td>\n",
              "      <td>25.800000</td>\n",
              "      <td>27.966667</td>\n",
              "    </tr>\n",
              "    <tr>\n",
              "      <th>Poly 50 lb.</th>\n",
              "      <td>28.633333</td>\n",
              "      <td>28.700000</td>\n",
              "      <td>29.900000</td>\n",
              "    </tr>\n",
              "    <tr>\n",
              "      <th>Poly 60 lb.</th>\n",
              "      <td>29.633333</td>\n",
              "      <td>29.600000</td>\n",
              "      <td>29.600000</td>\n",
              "    </tr>\n",
              "    <tr>\n",
              "      <th>Frying Pan</th>\n",
              "      <td>46.066667</td>\n",
              "      <td>48.233333</td>\n",
              "      <td>46.411111</td>\n",
              "    </tr>\n",
              "  </tbody>\n",
              "</table>\n",
              "</div>"
            ],
            "text/plain": [
              "                    50 cm     100 cm     150 cm\n",
              "Syn Gut 40 lb.  27.400000  27.766667  28.055556\n",
              "Syn Gut 50 lb.  29.633333  30.250000  30.500000\n",
              "Syn Gut 60 lb.  30.000000  30.983333  30.833333\n",
              "Poly 40 lb.     24.933333  25.800000  27.966667\n",
              "Poly 50 lb.     28.633333  28.700000  29.900000\n",
              "Poly 60 lb.     29.633333  29.600000  29.600000\n",
              "Frying Pan      46.066667  48.233333  46.411111"
            ]
          },
          "metadata": {
            "tags": []
          },
          "execution_count": 19
        }
      ]
    },
    {
      "cell_type": "code",
      "metadata": {
        "id": "ecpRuuugUcN6",
        "colab": {
          "base_uri": "https://localhost:8080/",
          "height": 731
        },
        "outputId": "a6c5d14a-7382-4b67-ae2c-6d9754ee9d18"
      },
      "source": [
        "fig1 = prim_fig.plot(kind = 'bar', yerr = [0.715542, 0.983192, 1.19, 0.722957, 1.09, 0.918695, 4.2])\n",
        "fig1.set_ylabel('Energy Loss (%)')\n",
        "fig1.set_ylim(0, 55)\n",
        "fig1"
      ],
      "execution_count": 20,
      "outputs": [
        {
          "output_type": "execute_result",
          "data": {
            "text/plain": [
              "<matplotlib.axes._subplots.AxesSubplot at 0x7fe31a7d7410>"
            ]
          },
          "metadata": {
            "tags": []
          },
          "execution_count": 20
        },
        {
          "output_type": "stream",
          "text": [
            "findfont: Font family ['normal'] not found. Falling back to DejaVu Sans.\n",
            "findfont: Font family ['normal'] not found. Falling back to DejaVu Sans.\n"
          ],
          "name": "stderr"
        },
        {
          "output_type": "display_data",
          "data": {
            "image/png": "[encoded data removed]",
            "text/plain": [
              "<Figure size 1080x720 with 1 Axes>"
            ]
          },
          "metadata": {
            "tags": []
          }
        }
      ]
    },
    {
      "cell_type": "code",
      "metadata": {
        "colab": {
          "base_uri": "https://localhost:8080/",
          "height": 778
        },
        "id": "Ty7vqL38iXgU",
        "outputId": "1d7e7782-4a63-41d5-d32f-d846d4b509e9"
      },
      "source": [
        "fig2 = testing.plot(kind = 'bar', yerr = [0.715542,\t0.427395,\t0.624559,\n",
        "                        0.983192,\t0.779102,\t0.721418,\t0.619677,\t1.090718,\t1.194618,\n",
        "                        0.722957,\t0.672309,\t0.619319,\t1.091177,\t0.513809,\t0.794145,\n",
        "                        \t0.794145,\t0.918695,\t0.68378,\t1.184342,\t1.978552,\t4.205552])\n",
        "fig2.set_ylabel('Energy Loss (%)')\n",
        "fig2.set_ylim(0, 55)\n",
        "fig2"
      ],
      "execution_count": 21,
      "outputs": [
        {
          "output_type": "execute_result",
          "data": {
            "text/plain": [
              "<matplotlib.axes._subplots.AxesSubplot at 0x7fe3133f0510>"
            ]
          },
          "metadata": {
            "tags": []
          },
          "execution_count": 21
        },
        {
          "output_type": "display_data",
          "data": {
            "image/png": "[encoded data removed]",
            "text/plain": [
              "<Figure size 1080x720 with 1 Axes>"
            ]
          },
          "metadata": {
            "tags": []
          }
        }
      ]
    },
    {
      "cell_type": "code",
      "metadata": {
        "id": "2MhNzleGU4ra",
        "colab": {
          "base_uri": "https://localhost:8080/",
          "height": 228
        },
        "outputId": "9fd76b28-741b-42d7-c1b5-6b8a49d0ec66"
      },
      "source": [
        "no_fry = prim_fig.loc['Syn Gut 40 lb.':'Poly 60 lb.']\n",
        "no_fry"
      ],
      "execution_count": 22,
      "outputs": [
        {
          "output_type": "execute_result",
          "data": {
            "text/html": [
              "<div>\n",
              "<style scoped>\n",
              "    .dataframe tbody tr th:only-of-type {\n",
              "        vertical-align: middle;\n",
              "    }\n",
              "\n",
              "    .dataframe tbody tr th {\n",
              "        vertical-align: top;\n",
              "    }\n",
              "\n",
              "    .dataframe thead th {\n",
              "        text-align: right;\n",
              "    }\n",
              "</style>\n",
              "<table border=\"1\" class=\"dataframe\">\n",
              "  <thead>\n",
              "    <tr style=\"text-align: right;\">\n",
              "      <th></th>\n",
              "      <th>50 cm</th>\n",
              "      <th>100 cm</th>\n",
              "      <th>150 cm</th>\n",
              "    </tr>\n",
              "  </thead>\n",
              "  <tbody>\n",
              "    <tr>\n",
              "      <th>Syn Gut 40 lb.</th>\n",
              "      <td>27.400000</td>\n",
              "      <td>27.766667</td>\n",
              "      <td>28.055556</td>\n",
              "    </tr>\n",
              "    <tr>\n",
              "      <th>Syn Gut 50 lb.</th>\n",
              "      <td>29.633333</td>\n",
              "      <td>30.250000</td>\n",
              "      <td>30.500000</td>\n",
              "    </tr>\n",
              "    <tr>\n",
              "      <th>Syn Gut 60 lb.</th>\n",
              "      <td>30.000000</td>\n",
              "      <td>30.983333</td>\n",
              "      <td>30.833333</td>\n",
              "    </tr>\n",
              "    <tr>\n",
              "      <th>Poly 40 lb.</th>\n",
              "      <td>24.933333</td>\n",
              "      <td>25.800000</td>\n",
              "      <td>27.966667</td>\n",
              "    </tr>\n",
              "    <tr>\n",
              "      <th>Poly 50 lb.</th>\n",
              "      <td>28.633333</td>\n",
              "      <td>28.700000</td>\n",
              "      <td>29.900000</td>\n",
              "    </tr>\n",
              "    <tr>\n",
              "      <th>Poly 60 lb.</th>\n",
              "      <td>29.633333</td>\n",
              "      <td>29.600000</td>\n",
              "      <td>29.600000</td>\n",
              "    </tr>\n",
              "  </tbody>\n",
              "</table>\n",
              "</div>"
            ],
            "text/plain": [
              "                    50 cm     100 cm     150 cm\n",
              "Syn Gut 40 lb.  27.400000  27.766667  28.055556\n",
              "Syn Gut 50 lb.  29.633333  30.250000  30.500000\n",
              "Syn Gut 60 lb.  30.000000  30.983333  30.833333\n",
              "Poly 40 lb.     24.933333  25.800000  27.966667\n",
              "Poly 50 lb.     28.633333  28.700000  29.900000\n",
              "Poly 60 lb.     29.633333  29.600000  29.600000"
            ]
          },
          "metadata": {
            "tags": []
          },
          "execution_count": 22
        }
      ]
    },
    {
      "cell_type": "code",
      "metadata": {
        "id": "N-ZkJL0mVGcl",
        "colab": {
          "base_uri": "https://localhost:8080/",
          "height": 737
        },
        "outputId": "69c36e0d-e0c0-46b3-c23a-f7a767658d17"
      },
      "source": [
        "fig2 = no_fry.plot(kind = 'bar', yerr = [1, 2, 3, 4, 5, 6])\n",
        "fig2.set_title('Ball Drop Potential Energy Loss')\n",
        "fig2.set_ylabel('Energy Loss (%)')\n",
        "fig2.set_ylim(15, 35)\n",
        "fig2"
      ],
      "execution_count": 23,
      "outputs": [
        {
          "output_type": "execute_result",
          "data": {
            "text/plain": [
              "<matplotlib.axes._subplots.AxesSubplot at 0x7fe312e9bad0>"
            ]
          },
          "metadata": {
            "tags": []
          },
          "execution_count": 23
        },
        {
          "output_type": "stream",
          "text": [
            "findfont: Font family ['normal'] not found. Falling back to DejaVu Sans.\n"
          ],
          "name": "stderr"
        },
        {
          "output_type": "display_data",
          "data": {
            "image/png": "[encoded data removed]",
            "text/plain": [
              "<Figure size 1080x720 with 1 Axes>"
            ]
          },
          "metadata": {
            "tags": []
          }
        }
      ]
    },
    {
      "cell_type": "markdown",
      "metadata": {
        "id": "VglhR2BSY2p5"
      },
      "source": [
        "###FEA vs. Testing###"
      ]
    },
    {
      "cell_type": "code",
      "metadata": {
        "id": "fsLl1m7lY0mJ",
        "colab": {
          "base_uri": "https://localhost:8080/",
          "height": 589
        },
        "outputId": "0794d35d-7d27-45c7-d19f-41253e138588"
      },
      "source": [
        "FEA_testing = []\n",
        "\n",
        "for i in range(18):\n",
        "  FEA = ABAQUS['Percent KE Loss'][i]\n",
        "  test = testing['% PE Loss'][i]\n",
        "  FEA_testing.append(pd.Series((test, FEA), index = ['Test % Loss', 'FEA % Loss']))\n",
        "\n",
        "comp_ind = ['Syn Gut 40 lb. 50 cm', 'Syn Gut 40 lb. 100 cm', 'Syn Gut 40 lb. 150 cm',\n",
        "            'Syn Gut 50 lb. 50 cm', 'Syn Gut 50 lb. 100 cm', 'Syn Gut 50 lb. 150 cm',\n",
        "            'Syn Gut 60 lb. 50 cm', 'Syn Gut 60 lb. 100 cm', 'Syn Gut 60 lb. 150 cm',\n",
        "            'Poly 40 lb. 50 cm', 'Poly 40 lb. 100 cm', 'Poly 40 lb. 150 cm',\n",
        "            'Poly 50 lb. 50 cm', 'Poly 50 lb. 100 cm', 'Poly 50 lb. 150 cm',\n",
        "            'Poly 60 lb. 50 cm', 'Poly 60 lb. 100 cm', 'Poly 60 lb. 150 cm']\n",
        "FEAvTesting = pd.DataFrame(FEA_testing, comp_ind)\n",
        "FEAvTesting"
      ],
      "execution_count": 24,
      "outputs": [
        {
          "output_type": "execute_result",
          "data": {
            "text/html": [
              "<div>\n",
              "<style scoped>\n",
              "    .dataframe tbody tr th:only-of-type {\n",
              "        vertical-align: middle;\n",
              "    }\n",
              "\n",
              "    .dataframe tbody tr th {\n",
              "        vertical-align: top;\n",
              "    }\n",
              "\n",
              "    .dataframe thead th {\n",
              "        text-align: right;\n",
              "    }\n",
              "</style>\n",
              "<table border=\"1\" class=\"dataframe\">\n",
              "  <thead>\n",
              "    <tr style=\"text-align: right;\">\n",
              "      <th></th>\n",
              "      <th>Test % Loss</th>\n",
              "      <th>FEA % Loss</th>\n",
              "    </tr>\n",
              "  </thead>\n",
              "  <tbody>\n",
              "    <tr>\n",
              "      <th>Syn Gut 40 lb. 50 cm</th>\n",
              "      <td>27.400000</td>\n",
              "      <td>4.271001</td>\n",
              "    </tr>\n",
              "    <tr>\n",
              "      <th>Syn Gut 40 lb. 100 cm</th>\n",
              "      <td>27.766667</td>\n",
              "      <td>7.663183</td>\n",
              "    </tr>\n",
              "    <tr>\n",
              "      <th>Syn Gut 40 lb. 150 cm</th>\n",
              "      <td>28.055556</td>\n",
              "      <td>7.981145</td>\n",
              "    </tr>\n",
              "    <tr>\n",
              "      <th>Syn Gut 50 lb. 50 cm</th>\n",
              "      <td>29.633333</td>\n",
              "      <td>4.194459</td>\n",
              "    </tr>\n",
              "    <tr>\n",
              "      <th>Syn Gut 50 lb. 100 cm</th>\n",
              "      <td>30.250000</td>\n",
              "      <td>7.655835</td>\n",
              "    </tr>\n",
              "    <tr>\n",
              "      <th>Syn Gut 50 lb. 150 cm</th>\n",
              "      <td>30.500000</td>\n",
              "      <td>7.927741</td>\n",
              "    </tr>\n",
              "    <tr>\n",
              "      <th>Syn Gut 60 lb. 50 cm</th>\n",
              "      <td>30.000000</td>\n",
              "      <td>4.214920</td>\n",
              "    </tr>\n",
              "    <tr>\n",
              "      <th>Syn Gut 60 lb. 100 cm</th>\n",
              "      <td>30.983333</td>\n",
              "      <td>7.647752</td>\n",
              "    </tr>\n",
              "    <tr>\n",
              "      <th>Syn Gut 60 lb. 150 cm</th>\n",
              "      <td>30.833333</td>\n",
              "      <td>7.871824</td>\n",
              "    </tr>\n",
              "    <tr>\n",
              "      <th>Poly 40 lb. 50 cm</th>\n",
              "      <td>24.933333</td>\n",
              "      <td>4.606083</td>\n",
              "    </tr>\n",
              "    <tr>\n",
              "      <th>Poly 40 lb. 100 cm</th>\n",
              "      <td>25.800000</td>\n",
              "      <td>6.331780</td>\n",
              "    </tr>\n",
              "    <tr>\n",
              "      <th>Poly 40 lb. 150 cm</th>\n",
              "      <td>27.966667</td>\n",
              "      <td>6.509745</td>\n",
              "    </tr>\n",
              "    <tr>\n",
              "      <th>Poly 50 lb. 50 cm</th>\n",
              "      <td>28.633333</td>\n",
              "      <td>4.559080</td>\n",
              "    </tr>\n",
              "    <tr>\n",
              "      <th>Poly 50 lb. 100 cm</th>\n",
              "      <td>28.700000</td>\n",
              "      <td>6.288235</td>\n",
              "    </tr>\n",
              "    <tr>\n",
              "      <th>Poly 50 lb. 150 cm</th>\n",
              "      <td>29.900000</td>\n",
              "      <td>6.457022</td>\n",
              "    </tr>\n",
              "    <tr>\n",
              "      <th>Poly 60 lb. 50 cm</th>\n",
              "      <td>29.633333</td>\n",
              "      <td>4.531965</td>\n",
              "    </tr>\n",
              "    <tr>\n",
              "      <th>Poly 60 lb. 100 cm</th>\n",
              "      <td>29.600000</td>\n",
              "      <td>6.251343</td>\n",
              "    </tr>\n",
              "    <tr>\n",
              "      <th>Poly 60 lb. 150 cm</th>\n",
              "      <td>29.600000</td>\n",
              "      <td>6.410525</td>\n",
              "    </tr>\n",
              "  </tbody>\n",
              "</table>\n",
              "</div>"
            ],
            "text/plain": [
              "                       Test % Loss  FEA % Loss\n",
              "Syn Gut 40 lb. 50 cm     27.400000    4.271001\n",
              "Syn Gut 40 lb. 100 cm    27.766667    7.663183\n",
              "Syn Gut 40 lb. 150 cm    28.055556    7.981145\n",
              "Syn Gut 50 lb. 50 cm     29.633333    4.194459\n",
              "Syn Gut 50 lb. 100 cm    30.250000    7.655835\n",
              "Syn Gut 50 lb. 150 cm    30.500000    7.927741\n",
              "Syn Gut 60 lb. 50 cm     30.000000    4.214920\n",
              "Syn Gut 60 lb. 100 cm    30.983333    7.647752\n",
              "Syn Gut 60 lb. 150 cm    30.833333    7.871824\n",
              "Poly 40 lb. 50 cm        24.933333    4.606083\n",
              "Poly 40 lb. 100 cm       25.800000    6.331780\n",
              "Poly 40 lb. 150 cm       27.966667    6.509745\n",
              "Poly 50 lb. 50 cm        28.633333    4.559080\n",
              "Poly 50 lb. 100 cm       28.700000    6.288235\n",
              "Poly 50 lb. 150 cm       29.900000    6.457022\n",
              "Poly 60 lb. 50 cm        29.633333    4.531965\n",
              "Poly 60 lb. 100 cm       29.600000    6.251343\n",
              "Poly 60 lb. 150 cm       29.600000    6.410525"
            ]
          },
          "metadata": {
            "tags": []
          },
          "execution_count": 24
        }
      ]
    },
    {
      "cell_type": "code",
      "metadata": {
        "id": "gNOavWnJceXr",
        "colab": {
          "base_uri": "https://localhost:8080/",
          "height": 784
        },
        "outputId": "a3a8d0d8-e7e5-48b9-cbb1-2ca3ec1f02f0"
      },
      "source": [
        "fig3 = FEAvTesting.plot(kind = 'bar')\n",
        "fig3.set_ylabel('Energy Loss (%)')\n",
        "fig3.set_ylim(0, 50)\n",
        "fig3"
      ],
      "execution_count": 25,
      "outputs": [
        {
          "output_type": "execute_result",
          "data": {
            "text/plain": [
              "<matplotlib.axes._subplots.AxesSubplot at 0x7fe312dcda10>"
            ]
          },
          "metadata": {
            "tags": []
          },
          "execution_count": 25
        },
        {
          "output_type": "display_data",
          "data": {
            "image/png": "[encoded data removed]",
            "text/plain": [
              "<Figure size 1080x720 with 1 Axes>"
            ]
          },
          "metadata": {
            "tags": []
          }
        }
      ]
    },
    {
      "cell_type": "markdown",
      "metadata": {
        "id": "Eb7MMb_7lWhV"
      },
      "source": [
        "###Change in % Loss###"
      ]
    },
    {
      "cell_type": "code",
      "metadata": {
        "id": "9eBC52FSltju",
        "colab": {
          "base_uri": "https://localhost:8080/",
          "height": 890
        },
        "outputId": "09f279fd-2f9e-4fe2-a97a-aa896c073528"
      },
      "source": [
        "ABAQUS"
      ],
      "execution_count": 26,
      "outputs": [
        {
          "output_type": "execute_result",
          "data": {
            "text/html": [
              "<div>\n",
              "<style scoped>\n",
              "    .dataframe tbody tr th:only-of-type {\n",
              "        vertical-align: middle;\n",
              "    }\n",
              "\n",
              "    .dataframe tbody tr th {\n",
              "        vertical-align: top;\n",
              "    }\n",
              "\n",
              "    .dataframe thead th {\n",
              "        text-align: right;\n",
              "    }\n",
              "</style>\n",
              "<table border=\"1\" class=\"dataframe\">\n",
              "  <thead>\n",
              "    <tr style=\"text-align: right;\">\n",
              "      <th></th>\n",
              "      <th>Percent KE Loss</th>\n",
              "    </tr>\n",
              "    <tr>\n",
              "      <th>Simulation</th>\n",
              "      <th></th>\n",
              "    </tr>\n",
              "  </thead>\n",
              "  <tbody>\n",
              "    <tr>\n",
              "      <th>syn_40_50</th>\n",
              "      <td>4.271001</td>\n",
              "    </tr>\n",
              "    <tr>\n",
              "      <th>syn_40_100</th>\n",
              "      <td>7.663183</td>\n",
              "    </tr>\n",
              "    <tr>\n",
              "      <th>syn_40_150</th>\n",
              "      <td>7.981145</td>\n",
              "    </tr>\n",
              "    <tr>\n",
              "      <th>syn_50_50</th>\n",
              "      <td>4.194459</td>\n",
              "    </tr>\n",
              "    <tr>\n",
              "      <th>syn_50_100</th>\n",
              "      <td>7.655835</td>\n",
              "    </tr>\n",
              "    <tr>\n",
              "      <th>syn_50_150</th>\n",
              "      <td>7.927741</td>\n",
              "    </tr>\n",
              "    <tr>\n",
              "      <th>syn_60_50</th>\n",
              "      <td>4.214920</td>\n",
              "    </tr>\n",
              "    <tr>\n",
              "      <th>syn_60_100</th>\n",
              "      <td>7.647752</td>\n",
              "    </tr>\n",
              "    <tr>\n",
              "      <th>syn_60_150</th>\n",
              "      <td>7.871824</td>\n",
              "    </tr>\n",
              "    <tr>\n",
              "      <th>poly_40_50</th>\n",
              "      <td>4.606083</td>\n",
              "    </tr>\n",
              "    <tr>\n",
              "      <th>poly_40_100</th>\n",
              "      <td>6.331780</td>\n",
              "    </tr>\n",
              "    <tr>\n",
              "      <th>poly_40_150</th>\n",
              "      <td>6.509745</td>\n",
              "    </tr>\n",
              "    <tr>\n",
              "      <th>poly_50_50</th>\n",
              "      <td>4.559080</td>\n",
              "    </tr>\n",
              "    <tr>\n",
              "      <th>poly_50_100</th>\n",
              "      <td>6.288235</td>\n",
              "    </tr>\n",
              "    <tr>\n",
              "      <th>poly_50_150</th>\n",
              "      <td>6.457022</td>\n",
              "    </tr>\n",
              "    <tr>\n",
              "      <th>poly_60_50</th>\n",
              "      <td>4.531965</td>\n",
              "    </tr>\n",
              "    <tr>\n",
              "      <th>poly_60_100</th>\n",
              "      <td>6.251343</td>\n",
              "    </tr>\n",
              "    <tr>\n",
              "      <th>poly_60_150</th>\n",
              "      <td>6.410525</td>\n",
              "    </tr>\n",
              "    <tr>\n",
              "      <th>multi_40_50</th>\n",
              "      <td>2.477530</td>\n",
              "    </tr>\n",
              "    <tr>\n",
              "      <th>multi_40_100</th>\n",
              "      <td>6.435729</td>\n",
              "    </tr>\n",
              "    <tr>\n",
              "      <th>multi_40_150</th>\n",
              "      <td>8.151437</td>\n",
              "    </tr>\n",
              "    <tr>\n",
              "      <th>multi_50_50</th>\n",
              "      <td>2.527178</td>\n",
              "    </tr>\n",
              "    <tr>\n",
              "      <th>multi_50_100</th>\n",
              "      <td>6.435605</td>\n",
              "    </tr>\n",
              "    <tr>\n",
              "      <th>multi_50_150</th>\n",
              "      <td>8.130296</td>\n",
              "    </tr>\n",
              "    <tr>\n",
              "      <th>multi_60_50</th>\n",
              "      <td>2.591399</td>\n",
              "    </tr>\n",
              "    <tr>\n",
              "      <th>multi_60_100</th>\n",
              "      <td>6.430921</td>\n",
              "    </tr>\n",
              "    <tr>\n",
              "      <th>multi_60_150</th>\n",
              "      <td>8.104565</td>\n",
              "    </tr>\n",
              "  </tbody>\n",
              "</table>\n",
              "</div>"
            ],
            "text/plain": [
              "              Percent KE Loss\n",
              "Simulation                   \n",
              "syn_40_50            4.271001\n",
              "syn_40_100           7.663183\n",
              "syn_40_150           7.981145\n",
              "syn_50_50            4.194459\n",
              "syn_50_100           7.655835\n",
              "syn_50_150           7.927741\n",
              "syn_60_50            4.214920\n",
              "syn_60_100           7.647752\n",
              "syn_60_150           7.871824\n",
              "poly_40_50           4.606083\n",
              "poly_40_100          6.331780\n",
              "poly_40_150          6.509745\n",
              "poly_50_50           4.559080\n",
              "poly_50_100          6.288235\n",
              "poly_50_150          6.457022\n",
              "poly_60_50           4.531965\n",
              "poly_60_100          6.251343\n",
              "poly_60_150          6.410525\n",
              "multi_40_50          2.477530\n",
              "multi_40_100         6.435729\n",
              "multi_40_150         8.151437\n",
              "multi_50_50          2.527178\n",
              "multi_50_100         6.435605\n",
              "multi_50_150         8.130296\n",
              "multi_60_50          2.591399\n",
              "multi_60_100         6.430921\n",
              "multi_60_150         8.104565"
            ]
          },
          "metadata": {
            "tags": []
          },
          "execution_count": 26
        }
      ]
    },
    {
      "cell_type": "code",
      "metadata": {
        "id": "CgjEoIoblyOy",
        "colab": {
          "base_uri": "https://localhost:8080/",
          "height": 680
        },
        "outputId": "baad3f5c-c895-408c-994f-cca812823f8a"
      },
      "source": [
        "testing"
      ],
      "execution_count": 27,
      "outputs": [
        {
          "output_type": "execute_result",
          "data": {
            "text/html": [
              "<div>\n",
              "<style scoped>\n",
              "    .dataframe tbody tr th:only-of-type {\n",
              "        vertical-align: middle;\n",
              "    }\n",
              "\n",
              "    .dataframe tbody tr th {\n",
              "        vertical-align: top;\n",
              "    }\n",
              "\n",
              "    .dataframe thead th {\n",
              "        text-align: right;\n",
              "    }\n",
              "</style>\n",
              "<table border=\"1\" class=\"dataframe\">\n",
              "  <thead>\n",
              "    <tr style=\"text-align: right;\">\n",
              "      <th></th>\n",
              "      <th>% PE Loss</th>\n",
              "    </tr>\n",
              "  </thead>\n",
              "  <tbody>\n",
              "    <tr>\n",
              "      <th>Syn Gut 40 lb. 50 cm</th>\n",
              "      <td>27.400000</td>\n",
              "    </tr>\n",
              "    <tr>\n",
              "      <th>Syn Gut 40 lb. 100 cm</th>\n",
              "      <td>27.766667</td>\n",
              "    </tr>\n",
              "    <tr>\n",
              "      <th>Syn Gut 40 lb. 150 cm</th>\n",
              "      <td>28.055556</td>\n",
              "    </tr>\n",
              "    <tr>\n",
              "      <th>Syn Gut 50 lb. 50 cm</th>\n",
              "      <td>29.633333</td>\n",
              "    </tr>\n",
              "    <tr>\n",
              "      <th>Syn Gut 50 lb. 100 cm</th>\n",
              "      <td>30.250000</td>\n",
              "    </tr>\n",
              "    <tr>\n",
              "      <th>Syn Gut 50 lb. 150 cm</th>\n",
              "      <td>30.500000</td>\n",
              "    </tr>\n",
              "    <tr>\n",
              "      <th>Syn Gut 60 lb. 50 cm</th>\n",
              "      <td>30.000000</td>\n",
              "    </tr>\n",
              "    <tr>\n",
              "      <th>Syn Gut 60 lb. 100 cm</th>\n",
              "      <td>30.983333</td>\n",
              "    </tr>\n",
              "    <tr>\n",
              "      <th>Syn Gut 60 lb. 150 cm</th>\n",
              "      <td>30.833333</td>\n",
              "    </tr>\n",
              "    <tr>\n",
              "      <th>Poly 40 lb. 50 cm</th>\n",
              "      <td>24.933333</td>\n",
              "    </tr>\n",
              "    <tr>\n",
              "      <th>Poly 40 lb. 100 cm</th>\n",
              "      <td>25.800000</td>\n",
              "    </tr>\n",
              "    <tr>\n",
              "      <th>Poly 40 lb. 150 cm</th>\n",
              "      <td>27.966667</td>\n",
              "    </tr>\n",
              "    <tr>\n",
              "      <th>Poly 50 lb. 50 cm</th>\n",
              "      <td>28.633333</td>\n",
              "    </tr>\n",
              "    <tr>\n",
              "      <th>Poly 50 lb. 100 cm</th>\n",
              "      <td>28.700000</td>\n",
              "    </tr>\n",
              "    <tr>\n",
              "      <th>Poly 50 lb. 150 cm</th>\n",
              "      <td>29.900000</td>\n",
              "    </tr>\n",
              "    <tr>\n",
              "      <th>Poly 60 lb. 50 cm</th>\n",
              "      <td>29.633333</td>\n",
              "    </tr>\n",
              "    <tr>\n",
              "      <th>Poly 60 lb. 100 cm</th>\n",
              "      <td>29.600000</td>\n",
              "    </tr>\n",
              "    <tr>\n",
              "      <th>Poly 60 lb. 150 cm</th>\n",
              "      <td>29.600000</td>\n",
              "    </tr>\n",
              "    <tr>\n",
              "      <th>Frying Pan 50 cm</th>\n",
              "      <td>46.066667</td>\n",
              "    </tr>\n",
              "    <tr>\n",
              "      <th>Frying Pan 100 cm</th>\n",
              "      <td>48.233333</td>\n",
              "    </tr>\n",
              "    <tr>\n",
              "      <th>Frying Pan 150 cm</th>\n",
              "      <td>46.411111</td>\n",
              "    </tr>\n",
              "  </tbody>\n",
              "</table>\n",
              "</div>"
            ],
            "text/plain": [
              "                       % PE Loss\n",
              "Syn Gut 40 lb. 50 cm   27.400000\n",
              "Syn Gut 40 lb. 100 cm  27.766667\n",
              "Syn Gut 40 lb. 150 cm  28.055556\n",
              "Syn Gut 50 lb. 50 cm   29.633333\n",
              "Syn Gut 50 lb. 100 cm  30.250000\n",
              "Syn Gut 50 lb. 150 cm  30.500000\n",
              "Syn Gut 60 lb. 50 cm   30.000000\n",
              "Syn Gut 60 lb. 100 cm  30.983333\n",
              "Syn Gut 60 lb. 150 cm  30.833333\n",
              "Poly 40 lb. 50 cm      24.933333\n",
              "Poly 40 lb. 100 cm     25.800000\n",
              "Poly 40 lb. 150 cm     27.966667\n",
              "Poly 50 lb. 50 cm      28.633333\n",
              "Poly 50 lb. 100 cm     28.700000\n",
              "Poly 50 lb. 150 cm     29.900000\n",
              "Poly 60 lb. 50 cm      29.633333\n",
              "Poly 60 lb. 100 cm     29.600000\n",
              "Poly 60 lb. 150 cm     29.600000\n",
              "Frying Pan 50 cm       46.066667\n",
              "Frying Pan 100 cm      48.233333\n",
              "Frying Pan 150 cm      46.411111"
            ]
          },
          "metadata": {
            "tags": []
          },
          "execution_count": 27
        }
      ]
    },
    {
      "cell_type": "code",
      "metadata": {
        "id": "K2L9CsTsl0WK",
        "colab": {
          "base_uri": "https://localhost:8080/",
          "height": 258
        },
        "outputId": "baf0d118-f99f-4800-84e1-29b623f03aa2"
      },
      "source": [
        "del_perc = []\n",
        "data = []\n",
        "for i in range(len(testing)):\n",
        "  if (i + 1) % 3 != 0:\n",
        "    dat = testing['% PE Loss'][i + 1] - testing['% PE Loss'][i]\n",
        "    data.append(dat)\n",
        "    if len(data) == 2:\n",
        "     del_perc.append(pd.Series(data, index = ['50 to 100 cm.', '100 to 150 cm.']))\n",
        "     data = []\n",
        "\n",
        "perc_change = pd.DataFrame(del_perc, index = index_1)\n",
        "perc_change"
      ],
      "execution_count": 28,
      "outputs": [
        {
          "output_type": "execute_result",
          "data": {
            "text/html": [
              "<div>\n",
              "<style scoped>\n",
              "    .dataframe tbody tr th:only-of-type {\n",
              "        vertical-align: middle;\n",
              "    }\n",
              "\n",
              "    .dataframe tbody tr th {\n",
              "        vertical-align: top;\n",
              "    }\n",
              "\n",
              "    .dataframe thead th {\n",
              "        text-align: right;\n",
              "    }\n",
              "</style>\n",
              "<table border=\"1\" class=\"dataframe\">\n",
              "  <thead>\n",
              "    <tr style=\"text-align: right;\">\n",
              "      <th></th>\n",
              "      <th>50 to 100 cm.</th>\n",
              "      <th>100 to 150 cm.</th>\n",
              "    </tr>\n",
              "  </thead>\n",
              "  <tbody>\n",
              "    <tr>\n",
              "      <th>Syn Gut 40 lb.</th>\n",
              "      <td>0.366667</td>\n",
              "      <td>0.288889</td>\n",
              "    </tr>\n",
              "    <tr>\n",
              "      <th>Syn Gut 50 lb.</th>\n",
              "      <td>0.616667</td>\n",
              "      <td>0.250000</td>\n",
              "    </tr>\n",
              "    <tr>\n",
              "      <th>Syn Gut 60 lb.</th>\n",
              "      <td>0.983333</td>\n",
              "      <td>-0.150000</td>\n",
              "    </tr>\n",
              "    <tr>\n",
              "      <th>Poly 40 lb.</th>\n",
              "      <td>0.866667</td>\n",
              "      <td>2.166667</td>\n",
              "    </tr>\n",
              "    <tr>\n",
              "      <th>Poly 50 lb.</th>\n",
              "      <td>0.066667</td>\n",
              "      <td>1.200000</td>\n",
              "    </tr>\n",
              "    <tr>\n",
              "      <th>Poly 60 lb.</th>\n",
              "      <td>-0.033333</td>\n",
              "      <td>0.000000</td>\n",
              "    </tr>\n",
              "    <tr>\n",
              "      <th>Frying Pan</th>\n",
              "      <td>2.166667</td>\n",
              "      <td>-1.822222</td>\n",
              "    </tr>\n",
              "  </tbody>\n",
              "</table>\n",
              "</div>"
            ],
            "text/plain": [
              "                50 to 100 cm.  100 to 150 cm.\n",
              "Syn Gut 40 lb.       0.366667        0.288889\n",
              "Syn Gut 50 lb.       0.616667        0.250000\n",
              "Syn Gut 60 lb.       0.983333       -0.150000\n",
              "Poly 40 lb.          0.866667        2.166667\n",
              "Poly 50 lb.          0.066667        1.200000\n",
              "Poly 60 lb.         -0.033333        0.000000\n",
              "Frying Pan           2.166667       -1.822222"
            ]
          },
          "metadata": {
            "tags": []
          },
          "execution_count": 28
        }
      ]
    },
    {
      "cell_type": "code",
      "metadata": {
        "id": "Y9KXO1ZEoxhs",
        "colab": {
          "base_uri": "https://localhost:8080/",
          "height": 737
        },
        "outputId": "3e77f3e1-2975-421f-b173-6f3acd98600f"
      },
      "source": [
        "fig4 = perc_change.plot(kind = 'bar')\n",
        "fig4.set_title('Ball Drop Change in % Energy Loss')\n",
        "fig4.set_ylabel('Change in Energy Loss (%)')\n",
        "fig4.set_ylim(-3, 3)\n",
        "fig4"
      ],
      "execution_count": 29,
      "outputs": [
        {
          "output_type": "execute_result",
          "data": {
            "text/plain": [
              "<matplotlib.axes._subplots.AxesSubplot at 0x7fe312e64f10>"
            ]
          },
          "metadata": {
            "tags": []
          },
          "execution_count": 29
        },
        {
          "output_type": "display_data",
          "data": {
            "image/png": "[encoded data removed]",
            "text/plain": [
              "<Figure size 1080x720 with 1 Axes>"
            ]
          },
          "metadata": {
            "tags": []
          }
        }
      ]
    },
    {
      "cell_type": "code",
      "metadata": {
        "id": "nmho_Om1pVkp",
        "colab": {
          "base_uri": "https://localhost:8080/",
          "height": 319
        },
        "outputId": "23cfbc2d-87a9-4aef-a1b0-be994fc3933d"
      },
      "source": [
        "index2 = ['Syn Gut 40 lb.', 'Syn Gut 50 lb.', 'Syn Gut 60 lb.', 'Poly 40 lb.',\n",
        "          'Poly 50 lb.', 'Poly 60 lb.', 'Multi 40 lb.',\n",
        "          'Multi 50 lb.', 'Multi 60 lb.']\n",
        "del_perc_A = []\n",
        "data = []\n",
        "for i in range(len(ABAQUS)):\n",
        "  if (i + 1) % 3 != 0:\n",
        "    dat = ABAQUS['Percent KE Loss'][i + 1] - ABAQUS['Percent KE Loss'][i]\n",
        "    data.append(dat)\n",
        "    if len(data) == 2:\n",
        "     del_perc_A.append(pd.Series(data, index = ['50 to 100 cm.', '100 to 150 cm.']))\n",
        "     data = []\n",
        "\n",
        "perc_change_FEA = pd.DataFrame(del_perc_A, index = index2)\n",
        "perc_change_FEA"
      ],
      "execution_count": 30,
      "outputs": [
        {
          "output_type": "execute_result",
          "data": {
            "text/html": [
              "<div>\n",
              "<style scoped>\n",
              "    .dataframe tbody tr th:only-of-type {\n",
              "        vertical-align: middle;\n",
              "    }\n",
              "\n",
              "    .dataframe tbody tr th {\n",
              "        vertical-align: top;\n",
              "    }\n",
              "\n",
              "    .dataframe thead th {\n",
              "        text-align: right;\n",
              "    }\n",
              "</style>\n",
              "<table border=\"1\" class=\"dataframe\">\n",
              "  <thead>\n",
              "    <tr style=\"text-align: right;\">\n",
              "      <th></th>\n",
              "      <th>50 to 100 cm.</th>\n",
              "      <th>100 to 150 cm.</th>\n",
              "    </tr>\n",
              "  </thead>\n",
              "  <tbody>\n",
              "    <tr>\n",
              "      <th>Syn Gut 40 lb.</th>\n",
              "      <td>3.392183</td>\n",
              "      <td>0.317962</td>\n",
              "    </tr>\n",
              "    <tr>\n",
              "      <th>Syn Gut 50 lb.</th>\n",
              "      <td>3.461377</td>\n",
              "      <td>0.271905</td>\n",
              "    </tr>\n",
              "    <tr>\n",
              "      <th>Syn Gut 60 lb.</th>\n",
              "      <td>3.432832</td>\n",
              "      <td>0.224072</td>\n",
              "    </tr>\n",
              "    <tr>\n",
              "      <th>Poly 40 lb.</th>\n",
              "      <td>1.725696</td>\n",
              "      <td>0.177965</td>\n",
              "    </tr>\n",
              "    <tr>\n",
              "      <th>Poly 50 lb.</th>\n",
              "      <td>1.729154</td>\n",
              "      <td>0.168787</td>\n",
              "    </tr>\n",
              "    <tr>\n",
              "      <th>Poly 60 lb.</th>\n",
              "      <td>1.719378</td>\n",
              "      <td>0.159182</td>\n",
              "    </tr>\n",
              "    <tr>\n",
              "      <th>Multi 40 lb.</th>\n",
              "      <td>3.958198</td>\n",
              "      <td>1.715708</td>\n",
              "    </tr>\n",
              "    <tr>\n",
              "      <th>Multi 50 lb.</th>\n",
              "      <td>3.908427</td>\n",
              "      <td>1.694691</td>\n",
              "    </tr>\n",
              "    <tr>\n",
              "      <th>Multi 60 lb.</th>\n",
              "      <td>3.839521</td>\n",
              "      <td>1.673644</td>\n",
              "    </tr>\n",
              "  </tbody>\n",
              "</table>\n",
              "</div>"
            ],
            "text/plain": [
              "                50 to 100 cm.  100 to 150 cm.\n",
              "Syn Gut 40 lb.       3.392183        0.317962\n",
              "Syn Gut 50 lb.       3.461377        0.271905\n",
              "Syn Gut 60 lb.       3.432832        0.224072\n",
              "Poly 40 lb.          1.725696        0.177965\n",
              "Poly 50 lb.          1.729154        0.168787\n",
              "Poly 60 lb.          1.719378        0.159182\n",
              "Multi 40 lb.         3.958198        1.715708\n",
              "Multi 50 lb.         3.908427        1.694691\n",
              "Multi 60 lb.         3.839521        1.673644"
            ]
          },
          "metadata": {
            "tags": []
          },
          "execution_count": 30
        }
      ]
    },
    {
      "cell_type": "code",
      "metadata": {
        "id": "oQitTtO_qAjK",
        "colab": {
          "base_uri": "https://localhost:8080/",
          "height": 228
        },
        "outputId": "0f16ee00-1f9c-4d5e-bae2-2c4470e8bfbf"
      },
      "source": [
        "comp_perc = perc_change_FEA.loc['Syn Gut 40 lb.':'Poly 60 lb.']\n",
        "comp_perc"
      ],
      "execution_count": 31,
      "outputs": [
        {
          "output_type": "execute_result",
          "data": {
            "text/html": [
              "<div>\n",
              "<style scoped>\n",
              "    .dataframe tbody tr th:only-of-type {\n",
              "        vertical-align: middle;\n",
              "    }\n",
              "\n",
              "    .dataframe tbody tr th {\n",
              "        vertical-align: top;\n",
              "    }\n",
              "\n",
              "    .dataframe thead th {\n",
              "        text-align: right;\n",
              "    }\n",
              "</style>\n",
              "<table border=\"1\" class=\"dataframe\">\n",
              "  <thead>\n",
              "    <tr style=\"text-align: right;\">\n",
              "      <th></th>\n",
              "      <th>50 to 100 cm.</th>\n",
              "      <th>100 to 150 cm.</th>\n",
              "    </tr>\n",
              "  </thead>\n",
              "  <tbody>\n",
              "    <tr>\n",
              "      <th>Syn Gut 40 lb.</th>\n",
              "      <td>3.392183</td>\n",
              "      <td>0.317962</td>\n",
              "    </tr>\n",
              "    <tr>\n",
              "      <th>Syn Gut 50 lb.</th>\n",
              "      <td>3.461377</td>\n",
              "      <td>0.271905</td>\n",
              "    </tr>\n",
              "    <tr>\n",
              "      <th>Syn Gut 60 lb.</th>\n",
              "      <td>3.432832</td>\n",
              "      <td>0.224072</td>\n",
              "    </tr>\n",
              "    <tr>\n",
              "      <th>Poly 40 lb.</th>\n",
              "      <td>1.725696</td>\n",
              "      <td>0.177965</td>\n",
              "    </tr>\n",
              "    <tr>\n",
              "      <th>Poly 50 lb.</th>\n",
              "      <td>1.729154</td>\n",
              "      <td>0.168787</td>\n",
              "    </tr>\n",
              "    <tr>\n",
              "      <th>Poly 60 lb.</th>\n",
              "      <td>1.719378</td>\n",
              "      <td>0.159182</td>\n",
              "    </tr>\n",
              "  </tbody>\n",
              "</table>\n",
              "</div>"
            ],
            "text/plain": [
              "                50 to 100 cm.  100 to 150 cm.\n",
              "Syn Gut 40 lb.       3.392183        0.317962\n",
              "Syn Gut 50 lb.       3.461377        0.271905\n",
              "Syn Gut 60 lb.       3.432832        0.224072\n",
              "Poly 40 lb.          1.725696        0.177965\n",
              "Poly 50 lb.          1.729154        0.168787\n",
              "Poly 60 lb.          1.719378        0.159182"
            ]
          },
          "metadata": {
            "tags": []
          },
          "execution_count": 31
        }
      ]
    },
    {
      "cell_type": "code",
      "metadata": {
        "id": "xSen-OHEqP5n",
        "colab": {
          "base_uri": "https://localhost:8080/",
          "height": 737
        },
        "outputId": "2be2649c-3361-41fa-da78-7fef6e302a74"
      },
      "source": [
        "fig5 = perc_change_FEA.plot(kind = 'bar')\n",
        "fig5.set_title('FEA Change in % Energy Loss')\n",
        "fig5.set_ylabel('Change in Energy Loss (%)')\n",
        "fig5.set_ylim(0, 5)\n",
        "fig5"
      ],
      "execution_count": 32,
      "outputs": [
        {
          "output_type": "execute_result",
          "data": {
            "text/plain": [
              "<matplotlib.axes._subplots.AxesSubplot at 0x7fe312c2f410>"
            ]
          },
          "metadata": {
            "tags": []
          },
          "execution_count": 32
        },
        {
          "output_type": "display_data",
          "data": {
            "image/png": "[encoded data removed]",
            "text/plain": [
              "<Figure size 1080x720 with 1 Axes>"
            ]
          },
          "metadata": {
            "tags": []
          }
        }
      ]
    },
    {
      "cell_type": "code",
      "metadata": {
        "id": "ca4v5RwCk2Wt",
        "colab": {
          "base_uri": "https://localhost:8080/",
          "height": 319
        },
        "outputId": "625174cf-f28e-4b7b-c557-51ec2746f3f5"
      },
      "source": [
        "perc_change_FEA"
      ],
      "execution_count": 33,
      "outputs": [
        {
          "output_type": "execute_result",
          "data": {
            "text/html": [
              "<div>\n",
              "<style scoped>\n",
              "    .dataframe tbody tr th:only-of-type {\n",
              "        vertical-align: middle;\n",
              "    }\n",
              "\n",
              "    .dataframe tbody tr th {\n",
              "        vertical-align: top;\n",
              "    }\n",
              "\n",
              "    .dataframe thead th {\n",
              "        text-align: right;\n",
              "    }\n",
              "</style>\n",
              "<table border=\"1\" class=\"dataframe\">\n",
              "  <thead>\n",
              "    <tr style=\"text-align: right;\">\n",
              "      <th></th>\n",
              "      <th>50 to 100 cm.</th>\n",
              "      <th>100 to 150 cm.</th>\n",
              "    </tr>\n",
              "  </thead>\n",
              "  <tbody>\n",
              "    <tr>\n",
              "      <th>Syn Gut 40 lb.</th>\n",
              "      <td>3.392183</td>\n",
              "      <td>0.317962</td>\n",
              "    </tr>\n",
              "    <tr>\n",
              "      <th>Syn Gut 50 lb.</th>\n",
              "      <td>3.461377</td>\n",
              "      <td>0.271905</td>\n",
              "    </tr>\n",
              "    <tr>\n",
              "      <th>Syn Gut 60 lb.</th>\n",
              "      <td>3.432832</td>\n",
              "      <td>0.224072</td>\n",
              "    </tr>\n",
              "    <tr>\n",
              "      <th>Poly 40 lb.</th>\n",
              "      <td>1.725696</td>\n",
              "      <td>0.177965</td>\n",
              "    </tr>\n",
              "    <tr>\n",
              "      <th>Poly 50 lb.</th>\n",
              "      <td>1.729154</td>\n",
              "      <td>0.168787</td>\n",
              "    </tr>\n",
              "    <tr>\n",
              "      <th>Poly 60 lb.</th>\n",
              "      <td>1.719378</td>\n",
              "      <td>0.159182</td>\n",
              "    </tr>\n",
              "    <tr>\n",
              "      <th>Multi 40 lb.</th>\n",
              "      <td>3.958198</td>\n",
              "      <td>1.715708</td>\n",
              "    </tr>\n",
              "    <tr>\n",
              "      <th>Multi 50 lb.</th>\n",
              "      <td>3.908427</td>\n",
              "      <td>1.694691</td>\n",
              "    </tr>\n",
              "    <tr>\n",
              "      <th>Multi 60 lb.</th>\n",
              "      <td>3.839521</td>\n",
              "      <td>1.673644</td>\n",
              "    </tr>\n",
              "  </tbody>\n",
              "</table>\n",
              "</div>"
            ],
            "text/plain": [
              "                50 to 100 cm.  100 to 150 cm.\n",
              "Syn Gut 40 lb.       3.392183        0.317962\n",
              "Syn Gut 50 lb.       3.461377        0.271905\n",
              "Syn Gut 60 lb.       3.432832        0.224072\n",
              "Poly 40 lb.          1.725696        0.177965\n",
              "Poly 50 lb.          1.729154        0.168787\n",
              "Poly 60 lb.          1.719378        0.159182\n",
              "Multi 40 lb.         3.958198        1.715708\n",
              "Multi 50 lb.         3.908427        1.694691\n",
              "Multi 60 lb.         3.839521        1.673644"
            ]
          },
          "metadata": {
            "tags": []
          },
          "execution_count": 33
        }
      ]
    },
    {
      "cell_type": "code",
      "metadata": {
        "id": "5wLzYMnsviZu",
        "colab": {
          "base_uri": "https://localhost:8080/",
          "height": 228
        },
        "outputId": "59402b94-8dc7-47d5-e571-f14ecb5df9ba"
      },
      "source": [
        "comp_perc_ch = perc_change.loc['Syn Gut 40 lb.':'Poly 60 lb.']\n",
        "comp_perc_ch"
      ],
      "execution_count": 34,
      "outputs": [
        {
          "output_type": "execute_result",
          "data": {
            "text/html": [
              "<div>\n",
              "<style scoped>\n",
              "    .dataframe tbody tr th:only-of-type {\n",
              "        vertical-align: middle;\n",
              "    }\n",
              "\n",
              "    .dataframe tbody tr th {\n",
              "        vertical-align: top;\n",
              "    }\n",
              "\n",
              "    .dataframe thead th {\n",
              "        text-align: right;\n",
              "    }\n",
              "</style>\n",
              "<table border=\"1\" class=\"dataframe\">\n",
              "  <thead>\n",
              "    <tr style=\"text-align: right;\">\n",
              "      <th></th>\n",
              "      <th>50 to 100 cm.</th>\n",
              "      <th>100 to 150 cm.</th>\n",
              "    </tr>\n",
              "  </thead>\n",
              "  <tbody>\n",
              "    <tr>\n",
              "      <th>Syn Gut 40 lb.</th>\n",
              "      <td>0.366667</td>\n",
              "      <td>0.288889</td>\n",
              "    </tr>\n",
              "    <tr>\n",
              "      <th>Syn Gut 50 lb.</th>\n",
              "      <td>0.616667</td>\n",
              "      <td>0.250000</td>\n",
              "    </tr>\n",
              "    <tr>\n",
              "      <th>Syn Gut 60 lb.</th>\n",
              "      <td>0.983333</td>\n",
              "      <td>-0.150000</td>\n",
              "    </tr>\n",
              "    <tr>\n",
              "      <th>Poly 40 lb.</th>\n",
              "      <td>0.866667</td>\n",
              "      <td>2.166667</td>\n",
              "    </tr>\n",
              "    <tr>\n",
              "      <th>Poly 50 lb.</th>\n",
              "      <td>0.066667</td>\n",
              "      <td>1.200000</td>\n",
              "    </tr>\n",
              "    <tr>\n",
              "      <th>Poly 60 lb.</th>\n",
              "      <td>-0.033333</td>\n",
              "      <td>0.000000</td>\n",
              "    </tr>\n",
              "  </tbody>\n",
              "</table>\n",
              "</div>"
            ],
            "text/plain": [
              "                50 to 100 cm.  100 to 150 cm.\n",
              "Syn Gut 40 lb.       0.366667        0.288889\n",
              "Syn Gut 50 lb.       0.616667        0.250000\n",
              "Syn Gut 60 lb.       0.983333       -0.150000\n",
              "Poly 40 lb.          0.866667        2.166667\n",
              "Poly 50 lb.          0.066667        1.200000\n",
              "Poly 60 lb.         -0.033333        0.000000"
            ]
          },
          "metadata": {
            "tags": []
          },
          "execution_count": 34
        }
      ]
    },
    {
      "cell_type": "code",
      "metadata": {
        "id": "cQCxOwuWwAwm",
        "colab": {
          "base_uri": "https://localhost:8080/",
          "height": 228
        },
        "outputId": "dacaf27b-22b6-4300-dcbd-efff133c15e2"
      },
      "source": [
        "comp_data = []\n",
        "new_data = []\n",
        "for i in range(len(comp_perc)):\n",
        "  dat1 = comp_perc_ch['50 to 100 cm.'][i]\n",
        "  dat2 = comp_perc['50 to 100 cm.'][i]\n",
        "  dat3 = comp_perc_ch['100 to 150 cm.'][i]\n",
        "  dat4 = comp_perc['100 to 150 cm.'][i]\n",
        "  new_data.append(dat1)\n",
        "  new_data.append(dat2)\n",
        "  new_data.append(dat3)\n",
        "  new_data.append(dat4)\n",
        "  comp_data.append(pd.Series(new_data, index = ['Testing 50 to 100 cm', \n",
        "                                                'FEA 50 to 100 cm', 'Testing 100 to 150 cm', 'FEA 100 to 150 cm']))\n",
        "  new_data = []\n",
        "\n",
        "comp_data = pd.DataFrame(comp_data, index = comp_perc_ch.index)\n",
        "comp_data"
      ],
      "execution_count": 35,
      "outputs": [
        {
          "output_type": "execute_result",
          "data": {
            "text/html": [
              "<div>\n",
              "<style scoped>\n",
              "    .dataframe tbody tr th:only-of-type {\n",
              "        vertical-align: middle;\n",
              "    }\n",
              "\n",
              "    .dataframe tbody tr th {\n",
              "        vertical-align: top;\n",
              "    }\n",
              "\n",
              "    .dataframe thead th {\n",
              "        text-align: right;\n",
              "    }\n",
              "</style>\n",
              "<table border=\"1\" class=\"dataframe\">\n",
              "  <thead>\n",
              "    <tr style=\"text-align: right;\">\n",
              "      <th></th>\n",
              "      <th>Testing 50 to 100 cm</th>\n",
              "      <th>FEA 50 to 100 cm</th>\n",
              "      <th>Testing 100 to 150 cm</th>\n",
              "      <th>FEA 100 to 150 cm</th>\n",
              "    </tr>\n",
              "  </thead>\n",
              "  <tbody>\n",
              "    <tr>\n",
              "      <th>Syn Gut 40 lb.</th>\n",
              "      <td>0.366667</td>\n",
              "      <td>3.392183</td>\n",
              "      <td>0.288889</td>\n",
              "      <td>0.317962</td>\n",
              "    </tr>\n",
              "    <tr>\n",
              "      <th>Syn Gut 50 lb.</th>\n",
              "      <td>0.616667</td>\n",
              "      <td>3.461377</td>\n",
              "      <td>0.250000</td>\n",
              "      <td>0.271905</td>\n",
              "    </tr>\n",
              "    <tr>\n",
              "      <th>Syn Gut 60 lb.</th>\n",
              "      <td>0.983333</td>\n",
              "      <td>3.432832</td>\n",
              "      <td>-0.150000</td>\n",
              "      <td>0.224072</td>\n",
              "    </tr>\n",
              "    <tr>\n",
              "      <th>Poly 40 lb.</th>\n",
              "      <td>0.866667</td>\n",
              "      <td>1.725696</td>\n",
              "      <td>2.166667</td>\n",
              "      <td>0.177965</td>\n",
              "    </tr>\n",
              "    <tr>\n",
              "      <th>Poly 50 lb.</th>\n",
              "      <td>0.066667</td>\n",
              "      <td>1.729154</td>\n",
              "      <td>1.200000</td>\n",
              "      <td>0.168787</td>\n",
              "    </tr>\n",
              "    <tr>\n",
              "      <th>Poly 60 lb.</th>\n",
              "      <td>-0.033333</td>\n",
              "      <td>1.719378</td>\n",
              "      <td>0.000000</td>\n",
              "      <td>0.159182</td>\n",
              "    </tr>\n",
              "  </tbody>\n",
              "</table>\n",
              "</div>"
            ],
            "text/plain": [
              "                Testing 50 to 100 cm  ...  FEA 100 to 150 cm\n",
              "Syn Gut 40 lb.              0.366667  ...           0.317962\n",
              "Syn Gut 50 lb.              0.616667  ...           0.271905\n",
              "Syn Gut 60 lb.              0.983333  ...           0.224072\n",
              "Poly 40 lb.                 0.866667  ...           0.177965\n",
              "Poly 50 lb.                 0.066667  ...           0.168787\n",
              "Poly 60 lb.                -0.033333  ...           0.159182\n",
              "\n",
              "[6 rows x 4 columns]"
            ]
          },
          "metadata": {
            "tags": []
          },
          "execution_count": 35
        }
      ]
    },
    {
      "cell_type": "code",
      "metadata": {
        "id": "V8cwTY_6xhga",
        "colab": {
          "base_uri": "https://localhost:8080/",
          "height": 737
        },
        "outputId": "392b71dc-c491-4a6b-bffe-368be34b6ad1"
      },
      "source": [
        "fig6 = comp_data.plot(kind = 'bar')\n",
        "fig6.set_title('Change in % Energy Loss')\n",
        "fig6.set_ylabel('Change in Energy Loss (%)')\n",
        "fig6.set_ylim(-.5, 4)\n",
        "fig6"
      ],
      "execution_count": 36,
      "outputs": [
        {
          "output_type": "execute_result",
          "data": {
            "text/plain": [
              "<matplotlib.axes._subplots.AxesSubplot at 0x7fe312b5af90>"
            ]
          },
          "metadata": {
            "tags": []
          },
          "execution_count": 36
        },
        {
          "output_type": "display_data",
          "data": {
            "image/png": "[encoded data removed]",
            "text/plain": [
              "<Figure size 1080x720 with 1 Axes>"
            ]
          },
          "metadata": {
            "tags": []
          }
        }
      ]
    }
  ]
}